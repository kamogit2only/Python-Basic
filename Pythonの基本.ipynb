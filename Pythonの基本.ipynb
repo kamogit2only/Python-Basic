{
  "cells": [
    {
      "cell_type": "markdown",
      "metadata": {
        "id": "view-in-github",
        "colab_type": "text"
      },
      "source": [
        "<a href=\"https://colab.research.google.com/github/kamogit2only/Python-Basic/blob/new-lesson/Python%E3%81%AE%E5%9F%BA%E6%9C%AC.ipynb\" target=\"_parent\"><img src=\"https://colab.research.google.com/assets/colab-badge.svg\" alt=\"Open In Colab\"/></a>"
      ]
    },
    {
      "cell_type": "markdown",
      "metadata": {
        "id": "TBq9VZ5m-RFe"
      },
      "source": [
        "# Pythonの基本"
      ]
    },
    {
      "cell_type": "markdown",
      "metadata": {
        "id": "ykA4kL9--RFh"
      },
      "source": [
        "## Data Type"
      ]
    },
    {
      "cell_type": "markdown",
      "metadata": {
        "id": "syF6oeaI-RFi"
      },
      "source": [
        "### Numbers"
      ]
    },
    {
      "cell_type": "code",
      "execution_count": 1,
      "metadata": {
        "colab": {
          "base_uri": "https://localhost:8080/"
        },
        "id": "VKgeH24L-RFj",
        "outputId": "14d3d9d4-f703-4ecd-907a-1839e068627a"
      },
      "outputs": [
        {
          "output_type": "execute_result",
          "data": {
            "text/plain": [
              "int"
            ]
          },
          "metadata": {},
          "execution_count": 1
        }
      ],
      "source": [
        "type(3)"
      ]
    },
    {
      "cell_type": "code",
      "execution_count": null,
      "metadata": {
        "id": "ZX0BNo6N-RFl",
        "outputId": "de3d5ea9-25ed-4401-c42d-0e330fc711c6"
      },
      "outputs": [
        {
          "data": {
            "text/plain": [
              "float"
            ]
          },
          "execution_count": 2,
          "metadata": {},
          "output_type": "execute_result"
        }
      ],
      "source": [
        "type(1.0)"
      ]
    },
    {
      "cell_type": "code",
      "execution_count": null,
      "metadata": {
        "id": "dt4Ls99K-RFm",
        "outputId": "12580de6-d70f-4f6d-b92f-4444b2d99b05"
      },
      "outputs": [
        {
          "data": {
            "text/plain": [
              "complex"
            ]
          },
          "execution_count": 3,
          "metadata": {},
          "output_type": "execute_result"
        }
      ],
      "source": [
        "type(3.14j)"
      ]
    },
    {
      "cell_type": "code",
      "execution_count": null,
      "metadata": {
        "id": "Y09v-0Lx-RFm",
        "outputId": "a7d6a87c-8ca2-4f7a-bc0d-600ca49b94a0"
      },
      "outputs": [
        {
          "data": {
            "text/plain": [
              "0.1"
            ]
          },
          "execution_count": 4,
          "metadata": {},
          "output_type": "execute_result"
        }
      ],
      "source": [
        "1e-1"
      ]
    },
    {
      "cell_type": "code",
      "execution_count": null,
      "metadata": {
        "id": "JKENbwLO-RFn",
        "outputId": "d8f74c8a-1364-42ed-c7af-4537d70f4006"
      },
      "outputs": [
        {
          "data": {
            "text/plain": [
              "int"
            ]
          },
          "execution_count": 5,
          "metadata": {},
          "output_type": "execute_result"
        }
      ],
      "source": [
        "#　四則演算\n",
        "type(1 + 1)"
      ]
    },
    {
      "cell_type": "code",
      "execution_count": null,
      "metadata": {
        "id": "_aOkncPL-RFo",
        "outputId": "7338a3b0-9e6e-4062-c512-c9570ab329b4"
      },
      "outputs": [
        {
          "data": {
            "text/plain": [
              "int"
            ]
          },
          "execution_count": 6,
          "metadata": {},
          "output_type": "execute_result"
        }
      ],
      "source": [
        "type(1 * 1)"
      ]
    },
    {
      "cell_type": "code",
      "execution_count": null,
      "metadata": {
        "id": "lrMA5WwF-RFp",
        "outputId": "a7bd9ed0-5272-456a-c413-a96c96e5b122"
      },
      "outputs": [
        {
          "data": {
            "text/plain": [
              "float"
            ]
          },
          "execution_count": 7,
          "metadata": {},
          "output_type": "execute_result"
        }
      ],
      "source": [
        "type(1 + 1.0)"
      ]
    },
    {
      "cell_type": "code",
      "execution_count": null,
      "metadata": {
        "id": "4r7NRHhZ-RFp",
        "outputId": "f01cd6b7-4f10-4b50-c477-2b170d5eb414"
      },
      "outputs": [
        {
          "data": {
            "text/plain": [
              "True"
            ]
          },
          "execution_count": 8,
          "metadata": {},
          "output_type": "execute_result"
        }
      ],
      "source": [
        "1 == 1.0"
      ]
    },
    {
      "cell_type": "markdown",
      "metadata": {
        "id": "jDGE2oBT-RFq"
      },
      "source": [
        "### Strings"
      ]
    },
    {
      "cell_type": "code",
      "execution_count": null,
      "metadata": {
        "id": "hIfwOHQN-RFq",
        "outputId": "7916c628-57ba-422f-e1e1-554418fde42d"
      },
      "outputs": [
        {
          "data": {
            "text/plain": [
              "'single quotation'"
            ]
          },
          "execution_count": 9,
          "metadata": {},
          "output_type": "execute_result"
        }
      ],
      "source": [
        "'single quotation'"
      ]
    },
    {
      "cell_type": "code",
      "execution_count": null,
      "metadata": {
        "id": "dNuUZ83h-RFr",
        "outputId": "88bd649f-b30a-44e9-98d2-7dac4e979c01"
      },
      "outputs": [
        {
          "data": {
            "text/plain": [
              "\"double 'quotation'\""
            ]
          },
          "execution_count": 10,
          "metadata": {},
          "output_type": "execute_result"
        }
      ],
      "source": [
        "\"double 'quotation'\""
      ]
    },
    {
      "cell_type": "code",
      "execution_count": null,
      "metadata": {
        "id": "iv6ix4g4-RFr",
        "outputId": "acbede7c-4665-4eeb-b71b-ecdfa6d8566f"
      },
      "outputs": [
        {
          "data": {
            "text/plain": [
              "'\\nmultiple\\nlines\\nstrings\\n'"
            ]
          },
          "execution_count": 11,
          "metadata": {},
          "output_type": "execute_result"
        }
      ],
      "source": [
        "'''\n",
        "multiple\n",
        "lines\n",
        "strings\n",
        "'''"
      ]
    },
    {
      "cell_type": "code",
      "execution_count": null,
      "metadata": {
        "id": "mmpUqlfy-RFr",
        "outputId": "b1dbd43d-4823-41c3-c499-a204dc2c6ae0"
      },
      "outputs": [
        {
          "data": {
            "text/plain": [
              "'h'"
            ]
          },
          "execution_count": 12,
          "metadata": {},
          "output_type": "execute_result"
        }
      ],
      "source": [
        "# Pythonのindexは0からスタートする\n",
        "'hello'[0]"
      ]
    },
    {
      "cell_type": "code",
      "execution_count": null,
      "metadata": {
        "id": "9EQWTCKq-RFs",
        "outputId": "be99eef3-8359-4487-94df-ac47579660b8"
      },
      "outputs": [
        {
          "data": {
            "text/plain": [
              "'el'"
            ]
          },
          "execution_count": 13,
          "metadata": {},
          "output_type": "execute_result"
        }
      ],
      "source": [
        "#Slicing [N:M] => N以上M未満\n",
        "'hello'[1:3]"
      ]
    },
    {
      "cell_type": "code",
      "execution_count": null,
      "metadata": {
        "id": "zcEoe3o5-RFs",
        "outputId": "b47460de-66ff-4a87-a090-d19c47eb5881"
      },
      "outputs": [
        {
          "data": {
            "text/plain": [
              "'fileID'"
            ]
          },
          "execution_count": 14,
          "metadata": {},
          "output_type": "execute_result"
        }
      ],
      "source": [
        "#例えばファイル名からIDを手軽に取ってくる時なんかに使える (頻出)\n",
        "'fileID.png'[:-4]"
      ]
    },
    {
      "cell_type": "code",
      "execution_count": null,
      "metadata": {
        "id": "B5N_cw1u-RFt",
        "outputId": "b16d42c5-7885-4eca-e825-a536e09e100d"
      },
      "outputs": [
        {
          "data": {
            "text/plain": [
              "'hello world'"
            ]
          },
          "execution_count": 15,
          "metadata": {},
          "output_type": "execute_result"
        }
      ],
      "source": [
        "'hello {}'.format('world')"
      ]
    },
    {
      "cell_type": "code",
      "execution_count": null,
      "metadata": {
        "id": "mtWnvODw-RFt",
        "outputId": "034a8ed4-a58c-412e-c2f0-d9cbb3d7a94a"
      },
      "outputs": [
        {
          "data": {
            "text/plain": [
              "'key is KEY, value is VALUE'"
            ]
          },
          "execution_count": 16,
          "metadata": {},
          "output_type": "execute_result"
        }
      ],
      "source": [
        "'key is {}, value is {}'.format('KEY', 'VALUE')"
      ]
    },
    {
      "cell_type": "code",
      "execution_count": null,
      "metadata": {
        "id": "OmcMEfy4-RFt",
        "outputId": "1e657f7e-d7a4-45d8-82fd-176c393f38bd"
      },
      "outputs": [
        {
          "data": {
            "text/plain": [
              "'key is KEY, value is VALUE'"
            ]
          },
          "execution_count": 17,
          "metadata": {},
          "output_type": "execute_result"
        }
      ],
      "source": [
        "# {}が多くなる場合はこうすると◎\n",
        "'key is {k}, value is {v}'.format(k='KEY', v='VALUE')"
      ]
    },
    {
      "cell_type": "code",
      "execution_count": null,
      "metadata": {
        "id": "XE9O_TAk-RFu",
        "outputId": "d7116e7b-e1b7-472f-8564-e6582f0dfda6"
      },
      "outputs": [
        {
          "data": {
            "text/plain": [
              "'helloworld'"
            ]
          },
          "execution_count": 18,
          "metadata": {},
          "output_type": "execute_result"
        }
      ],
      "source": [
        "# 文字列同士の連結にも+演算が可能\n",
        "'hello' + 'world'"
      ]
    },
    {
      "cell_type": "code",
      "execution_count": null,
      "metadata": {
        "id": "LMGCcInR-RFu",
        "outputId": "91896692-caca-4ccd-bb9f-4b8b3eb52f34"
      },
      "outputs": [
        {
          "data": {
            "text/plain": [
              "'123456_6.csv'"
            ]
          },
          "execution_count": 19,
          "metadata": {},
          "output_type": "execute_result"
        }
      ],
      "source": [
        "#例えばファイル名を構成する時に使える\n",
        "patient_id = '123456'\n",
        "number = '6'\n",
        "file_name = patient_id + '_' + number + '.csv'\n",
        "file_name"
      ]
    },
    {
      "cell_type": "code",
      "execution_count": null,
      "metadata": {
        "id": "cnQXSi3n-RFu",
        "outputId": "2c1ab892-663a-47da-c21e-70752f3cb29b"
      },
      "outputs": [
        {
          "data": {
            "text/plain": [
              "'123456_6.csv'"
            ]
          },
          "execution_count": 20,
          "metadata": {},
          "output_type": "execute_result"
        }
      ],
      "source": [
        "#こちらの方が見やすいが，ちょっと上級？\n",
        "file_name = '{}_{}.csv'.format(patient_id, number)\n",
        "file_name"
      ]
    },
    {
      "cell_type": "code",
      "execution_count": null,
      "metadata": {
        "id": "Jirezkfx-RFv",
        "outputId": "e725eaf8-326e-4ce8-8832-b92139544dcc"
      },
      "outputs": [
        {
          "data": {
            "text/plain": [
              "['hello', 'world']"
            ]
          },
          "execution_count": 21,
          "metadata": {},
          "output_type": "execute_result"
        }
      ],
      "source": [
        "#splitとjoin\n",
        "'hello world'.split(' ')"
      ]
    },
    {
      "cell_type": "code",
      "execution_count": null,
      "metadata": {
        "id": "WZOibFj0-RFw",
        "outputId": "05e99c5a-765a-480e-d49f-8e306c5a7d3d"
      },
      "outputs": [
        {
          "data": {
            "text/plain": [
              "'hello world'"
            ]
          },
          "execution_count": 22,
          "metadata": {},
          "output_type": "execute_result"
        }
      ],
      "source": [
        "' '.join(['hello', 'world'])"
      ]
    },
    {
      "cell_type": "markdown",
      "metadata": {
        "id": "5S-FB_iF-RFw"
      },
      "source": [
        "### Lists"
      ]
    },
    {
      "cell_type": "code",
      "execution_count": null,
      "metadata": {
        "id": "ua0y6XfQ-RFx",
        "outputId": "8867b69d-ee95-40b2-ae45-00062c5c0842"
      },
      "outputs": [
        {
          "name": "stdout",
          "output_type": "stream",
          "text": [
            "[1, 2.0, 'three']\n"
          ]
        }
      ],
      "source": [
        "# 要素はオブジェクトならなんでもOK(普通は同じ型だが)\n",
        "list1 = [1, 2.0, 'three']\n",
        "print(list1)"
      ]
    },
    {
      "cell_type": "code",
      "execution_count": null,
      "metadata": {
        "id": "JOmZubO7-RFx",
        "outputId": "f4ca8ff1-5ed1-4a23-9279-6f590f7b29fb"
      },
      "outputs": [
        {
          "data": {
            "text/plain": [
              "['one', 2.0, 'three']"
            ]
          },
          "execution_count": 24,
          "metadata": {},
          "output_type": "execute_result"
        }
      ],
      "source": [
        "#要素更新\n",
        "list1[0] = 'one'\n",
        "list1"
      ]
    },
    {
      "cell_type": "code",
      "execution_count": null,
      "metadata": {
        "id": "y9OsBfYy-RFy",
        "outputId": "694246e5-34b3-47a6-fb0e-8519048b18f8"
      },
      "outputs": [
        {
          "data": {
            "text/plain": [
              "['one', 2.0, 'three', ['one', 'two', 3]]"
            ]
          },
          "execution_count": 25,
          "metadata": {},
          "output_type": "execute_result"
        }
      ],
      "source": [
        "list2 = ['one', 'two', 3]\n",
        "# append関数で最後の要素に付け加える\n",
        "list1.append(list2)\n",
        "list1"
      ]
    },
    {
      "cell_type": "code",
      "execution_count": null,
      "metadata": {
        "id": "aTDww8mR-RFz",
        "outputId": "4f974cfe-bc4f-40c7-b25d-4864ff9c3fbc"
      },
      "outputs": [
        {
          "data": {
            "text/plain": [
              "'two'"
            ]
          },
          "execution_count": 26,
          "metadata": {},
          "output_type": "execute_result"
        }
      ],
      "source": [
        "list1[3][1]"
      ]
    },
    {
      "cell_type": "code",
      "execution_count": null,
      "metadata": {
        "id": "8ShLVDUK-RFz",
        "outputId": "5858817b-6003-43a4-c966-763e47bface4"
      },
      "outputs": [
        {
          "data": {
            "text/plain": [
              "[1, 2, 3, 4, 5, 6]"
            ]
          },
          "execution_count": 27,
          "metadata": {},
          "output_type": "execute_result"
        }
      ],
      "source": [
        "#単に連結する時は + を使う(.add()という関数はないので注意)\n",
        "[1, 2, 3] + [4, 5, 6]"
      ]
    },
    {
      "cell_type": "markdown",
      "metadata": {
        "id": "P_1Wy9va-RFz"
      },
      "source": [
        "### Dictionaries"
      ]
    },
    {
      "cell_type": "code",
      "execution_count": null,
      "metadata": {
        "id": "9Z9kLsKd-RF0",
        "outputId": "6865b10d-bcc5-4736-f12a-ea32ac88c31d"
      },
      "outputs": [
        {
          "data": {
            "text/plain": [
              "'value1'"
            ]
          },
          "execution_count": 28,
          "metadata": {},
          "output_type": "execute_result"
        }
      ],
      "source": [
        "#ハッシュ構造　とにかくデータの取り出しが早い\n",
        "dict1 = {'key1': 'value1', 'key2': 2, 3: 'value3'}\n",
        "dict1['key1']"
      ]
    },
    {
      "cell_type": "code",
      "execution_count": null,
      "metadata": {
        "id": "Phfcdaqg-RF1",
        "outputId": "8ac16710-3d69-48e3-f817-e58a38a91813"
      },
      "outputs": [
        {
          "data": {
            "text/plain": [
              "[1, 'value2', 3]"
            ]
          },
          "execution_count": 29,
          "metadata": {},
          "output_type": "execute_result"
        }
      ],
      "source": [
        "dict2 = {'key1': [1, 'value2', 3]}\n",
        "dict2['key1']"
      ]
    },
    {
      "cell_type": "code",
      "execution_count": null,
      "metadata": {
        "id": "9zIA4VnI-RF1",
        "outputId": "2554051b-25b2-4780-b096-2ece814dcca0"
      },
      "outputs": [
        {
          "ename": "KeyError",
          "evalue": "0",
          "output_type": "error",
          "traceback": [
            "\u001b[0;31m---------------------------------------------------------------------------\u001b[0m",
            "\u001b[0;31mKeyError\u001b[0m                                  Traceback (most recent call last)",
            "\u001b[0;32m<ipython-input-30-991a66c72528>\u001b[0m in \u001b[0;36m<module>\u001b[0;34m\u001b[0m\n\u001b[1;32m      1\u001b[0m \u001b[0;31m# リストと違い順番はない\u001b[0m\u001b[0;34m\u001b[0m\u001b[0;34m\u001b[0m\u001b[0;34m\u001b[0m\u001b[0m\n\u001b[0;32m----> 2\u001b[0;31m \u001b[0mdict1\u001b[0m\u001b[0;34m[\u001b[0m\u001b[0;36m0\u001b[0m\u001b[0;34m]\u001b[0m\u001b[0;34m\u001b[0m\u001b[0;34m\u001b[0m\u001b[0m\n\u001b[0m",
            "\u001b[0;31mKeyError\u001b[0m: 0"
          ]
        }
      ],
      "source": [
        "# リストと違い順番はない\n",
        "dict1[0]"
      ]
    },
    {
      "cell_type": "code",
      "execution_count": null,
      "metadata": {
        "id": "nDYIRKzI-RF1",
        "outputId": "5eb70276-21e6-4cb7-c9f9-0966c8b6002e"
      },
      "outputs": [
        {
          "data": {
            "text/plain": [
              "'value4'"
            ]
          },
          "execution_count": 34,
          "metadata": {},
          "output_type": "execute_result"
        }
      ],
      "source": [
        "#追加する．(変更も同じ)\n",
        "dict1['key4'] = 'value4'\n",
        "dict1['key4']"
      ]
    },
    {
      "cell_type": "code",
      "execution_count": null,
      "metadata": {
        "id": "2p9jSzte-RF2",
        "outputId": "3045d777-d514-4c21-8405-4eae54a3ea7b"
      },
      "outputs": [
        {
          "data": {
            "text/plain": [
              "dict_keys(['key1', 'key2', 3, 'key4'])"
            ]
          },
          "execution_count": 35,
          "metadata": {},
          "output_type": "execute_result"
        }
      ],
      "source": [
        "dict1.keys()"
      ]
    },
    {
      "cell_type": "code",
      "execution_count": null,
      "metadata": {
        "id": "uav7oWje-RF3",
        "outputId": "2a999c76-941b-49ec-897b-a50165770cf1"
      },
      "outputs": [
        {
          "data": {
            "text/plain": [
              "dict_values(['value1', 2, 'value3', 'value4'])"
            ]
          },
          "execution_count": 36,
          "metadata": {},
          "output_type": "execute_result"
        }
      ],
      "source": [
        "dict1.values()"
      ]
    },
    {
      "cell_type": "markdown",
      "metadata": {
        "id": "hOM-2QuE-RF3"
      },
      "source": [
        "### Boolean"
      ]
    },
    {
      "cell_type": "code",
      "execution_count": null,
      "metadata": {
        "id": "yPJe8kTg-RF4",
        "outputId": "8964eaf5-1e69-446c-b2bc-90b4f8717ce8"
      },
      "outputs": [
        {
          "data": {
            "text/plain": [
              "True"
            ]
          },
          "execution_count": 37,
          "metadata": {},
          "output_type": "execute_result"
        }
      ],
      "source": [
        "#ブーリアン　0か1　真か偽\n",
        "True"
      ]
    },
    {
      "cell_type": "code",
      "execution_count": null,
      "metadata": {
        "id": "OoV3OoqR-RF4",
        "outputId": "1ddcb4d2-d0ec-4389-b8ef-a09375c8cb96"
      },
      "outputs": [
        {
          "data": {
            "text/plain": [
              "False"
            ]
          },
          "execution_count": 38,
          "metadata": {},
          "output_type": "execute_result"
        }
      ],
      "source": [
        "False"
      ]
    },
    {
      "cell_type": "code",
      "execution_count": null,
      "metadata": {
        "id": "8cwSkv4l-RF4",
        "outputId": "bf74ae19-e8b2-49fa-af7d-4b4f7a9878ec"
      },
      "outputs": [
        {
          "data": {
            "text/plain": [
              "bool"
            ]
          },
          "execution_count": 39,
          "metadata": {},
          "output_type": "execute_result"
        }
      ],
      "source": [
        "type(True)"
      ]
    },
    {
      "cell_type": "code",
      "execution_count": null,
      "metadata": {
        "id": "T2r4nezI-RF5",
        "outputId": "13faf213-6b25-4b60-8f02-534797e2b3fb"
      },
      "outputs": [
        {
          "data": {
            "text/plain": [
              "str"
            ]
          },
          "execution_count": 40,
          "metadata": {},
          "output_type": "execute_result"
        }
      ],
      "source": [
        "type('True')"
      ]
    },
    {
      "cell_type": "markdown",
      "metadata": {
        "id": "s5p3azdd-RF5"
      },
      "source": [
        "### Tuples"
      ]
    },
    {
      "cell_type": "code",
      "execution_count": null,
      "metadata": {
        "id": "o-bBQhSb-RF5",
        "outputId": "f65bf105-dec4-4514-ebc9-cca7d62ee1af"
      },
      "outputs": [
        {
          "data": {
            "text/plain": [
              "2"
            ]
          },
          "execution_count": 41,
          "metadata": {},
          "output_type": "execute_result"
        }
      ],
      "source": [
        "# タプル：変更できないリスト\n",
        "tuple1 = (1, 2, 3)\n",
        "tuple1[1]"
      ]
    },
    {
      "cell_type": "code",
      "execution_count": null,
      "metadata": {
        "id": "iYr3mSmE-RF5",
        "outputId": "db9dacdb-05c9-41d2-eb76-6aace54bf436"
      },
      "outputs": [
        {
          "ename": "TypeError",
          "evalue": "'tuple' object does not support item assignment",
          "output_type": "error",
          "traceback": [
            "\u001b[0;31m---------------------------------------------------------------------------\u001b[0m",
            "\u001b[0;31mTypeError\u001b[0m                                 Traceback (most recent call last)",
            "\u001b[0;32m<ipython-input-42-6ca9925fb57b>\u001b[0m in \u001b[0;36m<module>\u001b[0;34m\u001b[0m\n\u001b[0;32m----> 1\u001b[0;31m \u001b[0mtuple1\u001b[0m\u001b[0;34m[\u001b[0m\u001b[0;36m0\u001b[0m\u001b[0;34m]\u001b[0m \u001b[0;34m=\u001b[0m \u001b[0;34m'one'\u001b[0m\u001b[0;34m\u001b[0m\u001b[0;34m\u001b[0m\u001b[0m\n\u001b[0m",
            "\u001b[0;31mTypeError\u001b[0m: 'tuple' object does not support item assignment"
          ]
        }
      ],
      "source": [
        "tuple1[0] = 'one'"
      ]
    },
    {
      "cell_type": "markdown",
      "metadata": {
        "id": "imSyQIg9-RF5"
      },
      "source": [
        "### Sets"
      ]
    },
    {
      "cell_type": "code",
      "execution_count": null,
      "metadata": {
        "id": "7kpl8tvw-RF5",
        "outputId": "c200441e-3d11-4dae-c0b6-d5cecf8e223b"
      },
      "outputs": [
        {
          "data": {
            "text/plain": [
              "{1, 2, 3, 4, 5}"
            ]
          },
          "execution_count": 43,
          "metadata": {},
          "output_type": "execute_result"
        }
      ],
      "source": [
        "#ユニークな値だけ持つリスト あまり使わない\n",
        "set1 = {1, 1, 2, 3, 4, 4, 4, 5}\n",
        "set1"
      ]
    },
    {
      "cell_type": "markdown",
      "metadata": {
        "id": "w3F-1uxw-RF6"
      },
      "source": [
        "## Casting : データタイプの変換"
      ]
    },
    {
      "cell_type": "code",
      "execution_count": null,
      "metadata": {
        "id": "OIdTEcLR-RF6",
        "outputId": "526039c5-4127-4e04-b616-f186d2750287"
      },
      "outputs": [
        {
          "data": {
            "text/plain": [
              "1"
            ]
          },
          "execution_count": 44,
          "metadata": {},
          "output_type": "execute_result"
        }
      ],
      "source": [
        "int(1.0)"
      ]
    },
    {
      "cell_type": "code",
      "execution_count": null,
      "metadata": {
        "id": "bIhFTBXb-RF6",
        "outputId": "1820bd13-f6cc-4a9a-a3e9-860272365b72"
      },
      "outputs": [
        {
          "data": {
            "text/plain": [
              "1"
            ]
          },
          "execution_count": 45,
          "metadata": {},
          "output_type": "execute_result"
        }
      ],
      "source": [
        "#　少数は切り捨て\n",
        "int(1.99)"
      ]
    },
    {
      "cell_type": "code",
      "execution_count": null,
      "metadata": {
        "id": "w8_T4W6H-RF6",
        "outputId": "fc0ad6b3-e047-499f-dfd2-60d6643b1297"
      },
      "outputs": [
        {
          "data": {
            "text/plain": [
              "1"
            ]
          },
          "execution_count": 46,
          "metadata": {},
          "output_type": "execute_result"
        }
      ],
      "source": [
        "#　文字が数字ならこれも可能\n",
        "int('1')"
      ]
    },
    {
      "cell_type": "code",
      "execution_count": null,
      "metadata": {
        "id": "_oZrUkqq-RF6",
        "outputId": "62c76ca7-0ff9-404e-83c8-f9e75074f87b"
      },
      "outputs": [
        {
          "data": {
            "text/plain": [
              "1.0"
            ]
          },
          "execution_count": 47,
          "metadata": {},
          "output_type": "execute_result"
        }
      ],
      "source": [
        "float(1)"
      ]
    },
    {
      "cell_type": "code",
      "execution_count": null,
      "metadata": {
        "id": "PfP68iuV-RF7",
        "outputId": "e211d87d-d5c3-41d0-fd3b-59647046828e"
      },
      "outputs": [
        {
          "data": {
            "text/plain": [
              "1.0"
            ]
          },
          "execution_count": 48,
          "metadata": {},
          "output_type": "execute_result"
        }
      ],
      "source": [
        "#　当然floatでも可能\n",
        "float('1.0')"
      ]
    },
    {
      "cell_type": "code",
      "execution_count": null,
      "metadata": {
        "id": "kdVRM4zM-RF7",
        "outputId": "b855e7d7-1e03-4663-fa98-5d1274c1324b"
      },
      "outputs": [
        {
          "data": {
            "text/plain": [
              "False"
            ]
          },
          "execution_count": 49,
          "metadata": {},
          "output_type": "execute_result"
        }
      ],
      "source": [
        "#これは時々重宝します\n",
        "bool(0)"
      ]
    },
    {
      "cell_type": "code",
      "execution_count": null,
      "metadata": {
        "id": "-qrq-s6--RF7",
        "outputId": "3760f8a0-b594-42da-e16f-8bae79a45939"
      },
      "outputs": [
        {
          "data": {
            "text/plain": [
              "True"
            ]
          },
          "execution_count": 50,
          "metadata": {},
          "output_type": "execute_result"
        }
      ],
      "source": [
        "# 文字列でもOK\n",
        "bool('1')"
      ]
    },
    {
      "cell_type": "code",
      "execution_count": null,
      "metadata": {
        "id": "zgdMchDs-RF7",
        "outputId": "15347851-cc87-4b54-82a7-6583f4df1ccd"
      },
      "outputs": [
        {
          "data": {
            "text/plain": [
              "['h', 'e', 'l', 'l', 'o']"
            ]
          },
          "execution_count": 51,
          "metadata": {},
          "output_type": "execute_result"
        }
      ],
      "source": [
        "list('hello')"
      ]
    },
    {
      "cell_type": "code",
      "execution_count": null,
      "metadata": {
        "id": "09W_Iv0e-RF7",
        "outputId": "a6d2ccd0-fdda-41ed-b2c5-25ad8dd9bedd"
      },
      "outputs": [
        {
          "data": {
            "text/plain": [
              "{1, 2, 3, 4, 5}"
            ]
          },
          "execution_count": 52,
          "metadata": {},
          "output_type": "execute_result"
        }
      ],
      "source": [
        "#setに変換すればユニークな値だけが残る.これも時々使う\n",
        "list1 = [1, 2, 2, 3, 3, 3, 4, 5, 5, 5]\n",
        "set(list1)"
      ]
    },
    {
      "cell_type": "markdown",
      "metadata": {
        "id": "LEpYTZOk-RF8"
      },
      "source": [
        "## 演算子(Operator)"
      ]
    },
    {
      "cell_type": "code",
      "execution_count": null,
      "metadata": {
        "id": "FVa9tRyq-RF8",
        "outputId": "0d278f6a-76d3-4945-e8f0-d69cdfc78760"
      },
      "outputs": [
        {
          "data": {
            "text/plain": [
              "2"
            ]
          },
          "execution_count": 53,
          "metadata": {},
          "output_type": "execute_result"
        }
      ],
      "source": [
        "1 + 1"
      ]
    },
    {
      "cell_type": "code",
      "execution_count": null,
      "metadata": {
        "id": "ZGHTe6_w-RF8",
        "outputId": "a756a11a-2753-4877-bd8e-03a5d9c3ca21"
      },
      "outputs": [
        {
          "data": {
            "text/plain": [
              "2"
            ]
          },
          "execution_count": 54,
          "metadata": {},
          "output_type": "execute_result"
        }
      ],
      "source": [
        "3 - 1"
      ]
    },
    {
      "cell_type": "code",
      "execution_count": null,
      "metadata": {
        "id": "Rzt5Kinl-RF8",
        "outputId": "86f5bdcf-103e-46af-da5b-2229ca86a6e6"
      },
      "outputs": [
        {
          "data": {
            "text/plain": [
              "4"
            ]
          },
          "execution_count": 55,
          "metadata": {},
          "output_type": "execute_result"
        }
      ],
      "source": [
        "2 * 2"
      ]
    },
    {
      "cell_type": "code",
      "execution_count": null,
      "metadata": {
        "id": "-GneATdk-RF8",
        "outputId": "afdc1661-867b-4660-c495-c18e7dc6ebbe"
      },
      "outputs": [
        {
          "data": {
            "text/plain": [
              "8"
            ]
          },
          "execution_count": 56,
          "metadata": {},
          "output_type": "execute_result"
        }
      ],
      "source": [
        "2 ** 3"
      ]
    },
    {
      "cell_type": "code",
      "execution_count": null,
      "metadata": {
        "id": "QXV57XaP-RF8",
        "outputId": "7a6c0c74-3f7b-4694-b15d-ae4c69bd97e2"
      },
      "outputs": [
        {
          "data": {
            "text/plain": [
              "1.3333333333333333"
            ]
          },
          "execution_count": 57,
          "metadata": {},
          "output_type": "execute_result"
        }
      ],
      "source": [
        "4 / 3"
      ]
    },
    {
      "cell_type": "code",
      "execution_count": null,
      "metadata": {
        "id": "n8r8GjWR-RF8",
        "outputId": "42744e6e-eaba-46e9-f4be-c29a126a7c79"
      },
      "outputs": [
        {
          "data": {
            "text/plain": [
              "1"
            ]
          },
          "execution_count": 58,
          "metadata": {},
          "output_type": "execute_result"
        }
      ],
      "source": [
        "4 // 3"
      ]
    },
    {
      "cell_type": "code",
      "execution_count": null,
      "metadata": {
        "id": "x5p4__1q-RF9",
        "outputId": "f3bede54-ed88-4a06-a3e5-0a79f816f7a9"
      },
      "outputs": [
        {
          "data": {
            "text/plain": [
              "2"
            ]
          },
          "execution_count": 59,
          "metadata": {},
          "output_type": "execute_result"
        }
      ],
      "source": [
        "5 % 3 # 5÷ 3 = 1 余り 2"
      ]
    },
    {
      "cell_type": "code",
      "execution_count": null,
      "metadata": {
        "id": "TAob_qWv-RF9"
      },
      "outputs": [],
      "source": [
        "i = 0"
      ]
    },
    {
      "cell_type": "code",
      "execution_count": null,
      "metadata": {
        "id": "flHm3rJk-RF9",
        "outputId": "2e9e96a2-c8f2-4482-862a-1f2d5140e1f2"
      },
      "outputs": [
        {
          "data": {
            "text/plain": [
              "1"
            ]
          },
          "execution_count": 61,
          "metadata": {},
          "output_type": "execute_result"
        }
      ],
      "source": [
        "# 「i = i + 1」と同じ\n",
        "# 後述のloop処理でよく使う\n",
        "i += 1\n",
        "i"
      ]
    },
    {
      "cell_type": "code",
      "execution_count": null,
      "metadata": {
        "id": "qiUuJezT-RF9",
        "outputId": "72cc8b8b-1b71-4e05-c875-bb17602674ba"
      },
      "outputs": [
        {
          "data": {
            "text/plain": [
              "True"
            ]
          },
          "execution_count": 62,
          "metadata": {},
          "output_type": "execute_result"
        }
      ],
      "source": [
        "3 > 1"
      ]
    },
    {
      "cell_type": "code",
      "execution_count": null,
      "metadata": {
        "id": "_Ol8t2fj-RF9",
        "outputId": "28dd4083-a5a5-4eac-99b1-e943224bddde"
      },
      "outputs": [
        {
          "data": {
            "text/plain": [
              "True"
            ]
          },
          "execution_count": 63,
          "metadata": {},
          "output_type": "execute_result"
        }
      ],
      "source": [
        "3 >= 3 # >(greater than)=(or equal to)"
      ]
    },
    {
      "cell_type": "code",
      "execution_count": null,
      "metadata": {
        "id": "K8mxHoN3-RF9",
        "outputId": "d2f3b94c-1da7-4803-f62b-141515defbdc"
      },
      "outputs": [
        {
          "data": {
            "text/plain": [
              "False"
            ]
          },
          "execution_count": 64,
          "metadata": {},
          "output_type": "execute_result"
        }
      ],
      "source": [
        "3 == 2"
      ]
    },
    {
      "cell_type": "code",
      "execution_count": null,
      "metadata": {
        "id": "LYWuyDhr-RF9",
        "outputId": "b35aaa65-7e53-4bba-cd05-69675b8003a0"
      },
      "outputs": [
        {
          "data": {
            "text/plain": [
              "True"
            ]
          },
          "execution_count": 65,
          "metadata": {},
          "output_type": "execute_result"
        }
      ],
      "source": [
        "3 != 2 #!(not)=(equal)"
      ]
    },
    {
      "cell_type": "code",
      "execution_count": null,
      "metadata": {
        "id": "MiCZUFAY-RF9",
        "outputId": "a65b93aa-0827-489a-c2f7-1a4f28715fa4"
      },
      "outputs": [
        {
          "data": {
            "text/plain": [
              "True"
            ]
          },
          "execution_count": 66,
          "metadata": {},
          "output_type": "execute_result"
        }
      ],
      "source": [
        "'h' in 'hello'"
      ]
    },
    {
      "cell_type": "code",
      "execution_count": null,
      "metadata": {
        "id": "GoK_-DOR-RF9",
        "outputId": "4701567e-2ce7-4124-bbaf-9450e368d53e"
      },
      "outputs": [
        {
          "data": {
            "text/plain": [
              "True"
            ]
          },
          "execution_count": 67,
          "metadata": {},
          "output_type": "execute_result"
        }
      ],
      "source": [
        "'a' in ['a', 'b', 'c']"
      ]
    },
    {
      "cell_type": "code",
      "execution_count": null,
      "metadata": {
        "id": "axvTJdkZ-RF-",
        "outputId": "321d4c2c-8d3b-46fd-f935-eb971c12cb44"
      },
      "outputs": [
        {
          "data": {
            "text/plain": [
              "False"
            ]
          },
          "execution_count": 68,
          "metadata": {},
          "output_type": "execute_result"
        }
      ],
      "source": [
        "True and False"
      ]
    },
    {
      "cell_type": "code",
      "execution_count": null,
      "metadata": {
        "id": "vOf8L_9w-RF-",
        "outputId": "ca8f29b0-8f86-41aa-dabd-e3f3be49503d"
      },
      "outputs": [
        {
          "data": {
            "text/plain": [
              "True"
            ]
          },
          "execution_count": 69,
          "metadata": {},
          "output_type": "execute_result"
        }
      ],
      "source": [
        "(4 > 2) or (1 > 3)"
      ]
    },
    {
      "cell_type": "code",
      "execution_count": null,
      "metadata": {
        "id": "TWLkc2tw-RF-",
        "outputId": "bbeb1e5d-3f1d-47e6-b1be-bcf95b8668d3"
      },
      "outputs": [
        {
          "data": {
            "text/plain": [
              "True"
            ]
          },
          "execution_count": 70,
          "metadata": {},
          "output_type": "execute_result"
        }
      ],
      "source": [
        "a = 1\n",
        "(a == 1) or (b == 1) #b==1は評価されない"
      ]
    },
    {
      "cell_type": "code",
      "execution_count": null,
      "metadata": {
        "id": "Xiwl5fqy-RF-",
        "outputId": "313c1b5a-7044-4dd9-efe2-47d3c82f8e0f"
      },
      "outputs": [
        {
          "data": {
            "text/plain": [
              "False"
            ]
          },
          "execution_count": 71,
          "metadata": {},
          "output_type": "execute_result"
        }
      ],
      "source": [
        "(a == 2) and (banana == 2)"
      ]
    },
    {
      "cell_type": "code",
      "execution_count": null,
      "metadata": {
        "id": "x_VjFu4O-RF-",
        "outputId": "b079739d-dd52-4973-e247-5526126b69b1"
      },
      "outputs": [
        {
          "name": "stdout",
          "output_type": "stream",
          "text": [
            "True\n",
            "False\n",
            "True\n"
          ]
        }
      ],
      "source": [
        "a = [1, 2]\n",
        "b = [1, 2]\n",
        "# == は値の判定\n",
        "print(a == b)\n",
        "# is　は同一オブジェクトかの判定\n",
        "print(a is b)\n",
        "print(a is not b)"
      ]
    },
    {
      "cell_type": "code",
      "execution_count": null,
      "metadata": {
        "id": "zAFQ1fqh-RF-",
        "outputId": "50d1ff2f-2eb6-4287-dcfe-98c3b36e0d23"
      },
      "outputs": [
        {
          "name": "stdout",
          "output_type": "stream",
          "text": [
            "140491135282704\n",
            "140491134353232\n"
          ]
        }
      ],
      "source": [
        "print(id(a))\n",
        "print(id(b))"
      ]
    },
    {
      "cell_type": "code",
      "execution_count": null,
      "metadata": {
        "id": "dQ0XO20A-RF-",
        "outputId": "1e9b2418-1a82-402a-86de-7c48850b06c8"
      },
      "outputs": [
        {
          "data": {
            "text/plain": [
              "True"
            ]
          },
          "execution_count": 74,
          "metadata": {},
          "output_type": "execute_result"
        }
      ],
      "source": [
        "# Noneは「なにも値がない」という値が入っているイメージ\n",
        "a = None\n",
        "# Noneかどうかの判定には'is None'を使う\n",
        "a is None"
      ]
    },
    {
      "cell_type": "code",
      "execution_count": null,
      "metadata": {
        "id": "2yNmimcX-RF_",
        "outputId": "59d7564f-8f1a-473d-856a-3ab74c5f5377"
      },
      "outputs": [
        {
          "ename": "NameError",
          "evalue": "name 'something' is not defined",
          "output_type": "error",
          "traceback": [
            "\u001b[0;31m---------------------------------------------------------------------------\u001b[0m",
            "\u001b[0;31mNameError\u001b[0m                                 Traceback (most recent call last)",
            "\u001b[0;32m<ipython-input-75-8bfdf8048bf9>\u001b[0m in \u001b[0;36m<module>\u001b[0;34m\u001b[0m\n\u001b[1;32m      1\u001b[0m \u001b[0;31m# NoneはUndefinedとは違う\u001b[0m\u001b[0;34m\u001b[0m\u001b[0;34m\u001b[0m\u001b[0;34m\u001b[0m\u001b[0m\n\u001b[0;32m----> 2\u001b[0;31m \u001b[0msomething\u001b[0m\u001b[0;34m\u001b[0m\u001b[0;34m\u001b[0m\u001b[0m\n\u001b[0m",
            "\u001b[0;31mNameError\u001b[0m: name 'something' is not defined"
          ]
        }
      ],
      "source": [
        "# NoneはUndefinedとは違う\n",
        "something"
      ]
    },
    {
      "cell_type": "markdown",
      "metadata": {
        "id": "NeOFL5Oe-RF_"
      },
      "source": [
        "## If"
      ]
    },
    {
      "cell_type": "markdown",
      "metadata": {
        "id": "WZBNCcQf-RF_"
      },
      "source": [
        "if (条件文1):  \n",
        "&nbsp;&nbsp;&nbsp;&nbsp;(条件文1がTrueの場合の処理)  \n",
        "elif: (条件文2):  \n",
        "&nbsp;&nbsp;&nbsp;&nbsp;(条件文1がFalseで条件文2がTrueの場合の処理)   \n",
        "else:   \n",
        "&nbsp;&nbsp;&nbsp;&nbsp;(条件文1も条件文2もFalseの場合の処理)  "
      ]
    },
    {
      "cell_type": "code",
      "execution_count": null,
      "metadata": {
        "id": "00sMnD9U-RF_",
        "outputId": "42d5d40a-188b-4914-c526-e4af54cc7d3a"
      },
      "outputs": [
        {
          "name": "stdout",
          "output_type": "stream",
          "text": [
            "1 is less than 3!!\n"
          ]
        }
      ],
      "source": [
        "if 1 < 3:\n",
        "    print('1 is less than 3!!')"
      ]
    },
    {
      "cell_type": "code",
      "execution_count": null,
      "metadata": {
        "id": "WWmZ2Kpm-RF_",
        "outputId": "ce65486e-fb8a-4b8b-9bab-2fb908fa90b5"
      },
      "outputs": [
        {
          "name": "stdout",
          "output_type": "stream",
          "text": [
            "1 is not 2\n"
          ]
        }
      ],
      "source": [
        "if 1 == 2:\n",
        "    print('1 is 2')\n",
        "else:\n",
        "    print('1 is not 2')"
      ]
    },
    {
      "cell_type": "code",
      "execution_count": null,
      "metadata": {
        "id": "P_CedNWA-RF_",
        "outputId": "d4dc1a8f-6089-47f9-892d-2993efc53a6c"
      },
      "outputs": [
        {
          "name": "stdout",
          "output_type": "stream",
          "text": [
            "1 is not 2\n"
          ]
        }
      ],
      "source": [
        "if 1 == 2:\n",
        "    print('1 is 2')\n",
        "elif 1 != 2:\n",
        "    print('1 is not 2')\n",
        "else:\n",
        "    print('something else')"
      ]
    },
    {
      "cell_type": "code",
      "execution_count": null,
      "metadata": {
        "id": "w_dqjZoW-RF_",
        "outputId": "e60137cc-4406-4608-f1df-58e4b7448c47"
      },
      "outputs": [
        {
          "name": "stdout",
          "output_type": "stream",
          "text": [
            "1 is 1\n"
          ]
        }
      ],
      "source": [
        "# if文を一行で書くことも可能．後述するlambda関数以外ではあまり使わない\n",
        "# この場合はelseが必要なので注意\n",
        "print('1 is 1') if 1 == 1 else print('1 is not 1')"
      ]
    },
    {
      "cell_type": "markdown",
      "metadata": {
        "id": "8toKfmtW-RF_"
      },
      "source": [
        "## Loop"
      ]
    },
    {
      "cell_type": "markdown",
      "metadata": {
        "id": "u94crBec-RGA"
      },
      "source": [
        "### for loop : リストの各要素に対しての処理を回す"
      ]
    },
    {
      "cell_type": "code",
      "execution_count": null,
      "metadata": {
        "id": "J48MLNvu-RGA",
        "outputId": "b1cefc2e-7704-44b5-ca0c-531d02f15b36"
      },
      "outputs": [
        {
          "name": "stdout",
          "output_type": "stream",
          "text": [
            "red is not my favorite color...\n",
            "blue is my favorite color!\n",
            "green is not my favorite color...\n",
            "yellow is not my favorite color...\n",
            "white is not my favorite color...\n"
          ]
        }
      ],
      "source": [
        "colors = ['red', 'blue', 'green', 'yellow', 'white']  # 1. リスト作成\n",
        "favorite_color = 'blue' \n",
        "for color in colors:  #2. for 文の形　for 要素 in リスト\n",
        "     #3. 各要素への処理\n",
        "    if color == favorite_color:\n",
        "        print('{} is my favorite color!'.format(color))\n",
        "    else:\n",
        "        print('{} is not my favorite color...'.format(color))"
      ]
    },
    {
      "cell_type": "code",
      "execution_count": null,
      "metadata": {
        "id": "iHnf797H-RGA",
        "outputId": "4b50da86-9065-44d3-fea7-6f104202bead"
      },
      "outputs": [
        {
          "data": {
            "text/plain": [
              "[0, 1, 2, 3, 4, 5, 6, 7, 8, 9]"
            ]
          },
          "execution_count": 81,
          "metadata": {},
          "output_type": "execute_result"
        }
      ],
      "source": [
        "# 連番のリストを作りたいときはrange関数が便利\n",
        "# range(start, stop, step) ==> [start, start+step, start+2*step.., stop未満]のリストを作れる\n",
        "# startのデフォルトは0, step のデフォルトは１\n",
        "list(range(10))"
      ]
    },
    {
      "cell_type": "code",
      "execution_count": null,
      "metadata": {
        "id": "jwloBt4o-RGA",
        "outputId": "3fb7cb19-fe13-4845-d783-9d17809d0222"
      },
      "outputs": [
        {
          "data": {
            "text/plain": [
              "[2, 4, 6, 8]"
            ]
          },
          "execution_count": 82,
          "metadata": {},
          "output_type": "execute_result"
        }
      ],
      "source": [
        "list(range(2, 10, 2))"
      ]
    },
    {
      "cell_type": "code",
      "execution_count": null,
      "metadata": {
        "id": "gj5DBW7y-RGA",
        "outputId": "fc1a4987-84e8-45c4-cb76-105db0aa96f2"
      },
      "outputs": [
        {
          "name": "stdout",
          "output_type": "stream",
          "text": [
            "0\n",
            "1\n",
            "2\n",
            "3\n",
            "4\n",
            "5\n",
            "6\n",
            "7\n",
            "8\n",
            "9\n"
          ]
        }
      ],
      "source": [
        "# for文で回すときはlist()は不要\n",
        "for i in range(10):\n",
        "    print(i)"
      ]
    },
    {
      "cell_type": "code",
      "execution_count": null,
      "metadata": {
        "id": "cgkd7qhE-RGA",
        "outputId": "4d420249-fd79-466a-d307-87e279289bb1"
      },
      "outputs": [
        {
          "name": "stdout",
          "output_type": "stream",
          "text": [
            "0: red is not my favorite color...\n",
            "1: blue is my favorite color!\n",
            "2: green is not my favorite color...\n",
            "3: yellow is not my favorite color...\n",
            "4: white is not my favorite color...\n"
          ]
        }
      ],
      "source": [
        "#リストのindexと要素どちらも使いたいときはenumerate()を使う\n",
        "favorite_color = 'blue'\n",
        "for idx, color in enumerate(colors):\n",
        "    if color == favorite_color:\n",
        "        print('{}: {} is my favorite color!'.format(idx, color))\n",
        "    else:\n",
        "        print('{}: {} is not my favorite color...'.format(idx, color))"
      ]
    },
    {
      "cell_type": "code",
      "execution_count": null,
      "metadata": {
        "id": "GYsiQVxL-RGA",
        "outputId": "aea254ff-3521-45f2-d1e5-7a2c49a8d340"
      },
      "outputs": [
        {
          "name": "stdout",
          "output_type": "stream",
          "text": [
            "0: red is not my favorite color...\n",
            "2: green is not my favorite color...\n",
            "3: yellow is not my favorite color...\n",
            "4: white is not my favorite color...\n"
          ]
        }
      ],
      "source": [
        "# breakとcontinue\n",
        "favorite_color = 'blue'\n",
        "for idx, color in enumerate(colors):\n",
        "    if color == favorite_color:\n",
        "        continue\n",
        "    else:\n",
        "        print('{}: {} is not my favorite color...'.format(idx, color))"
      ]
    },
    {
      "cell_type": "code",
      "execution_count": null,
      "metadata": {
        "id": "bdpbB8ue-RGB",
        "outputId": "295d27af-f57e-4874-81dc-562c75dd0adf"
      },
      "outputs": [
        {
          "name": "stdout",
          "output_type": "stream",
          "text": [
            "0: red is not my favorite color...\n"
          ]
        }
      ],
      "source": [
        "# breakとcontinue\n",
        "favorite_color = 'blue'\n",
        "for idx, color in enumerate(colors):\n",
        "    if color == favorite_color:\n",
        "        break\n",
        "    else:\n",
        "        print('{}: {} is not my favorite color...'.format(idx, color))"
      ]
    },
    {
      "cell_type": "markdown",
      "metadata": {
        "id": "ZopTblGA-RGB"
      },
      "source": [
        "### リスト内包表記 (List Comprehensions)"
      ]
    },
    {
      "cell_type": "code",
      "execution_count": null,
      "metadata": {
        "id": "eaOqUMph-RGB"
      },
      "outputs": [],
      "source": [
        "colors = ['red', 'blue', 'green', 'yellow', 'white']"
      ]
    },
    {
      "cell_type": "code",
      "execution_count": null,
      "metadata": {
        "id": "taIUHuu8-RGB"
      },
      "outputs": [],
      "source": [
        "#例えば各要素に文字列の最後に'.png'をつけたい場合\n",
        "# for loopを使うとこんな感じ\n",
        "new_colors = []\n",
        "for color in colors:\n",
        "    new_color = color + '.png'\n",
        "    new_colors.append(new_color)"
      ]
    },
    {
      "cell_type": "code",
      "execution_count": null,
      "metadata": {
        "id": "YOPPYDQs-RGB",
        "outputId": "d06b69ba-472e-41d9-8f97-bc7e7389a60f"
      },
      "outputs": [
        {
          "data": {
            "text/plain": [
              "['red.png', 'blue.png', 'green.png', 'yellow.png', 'white.png']"
            ]
          },
          "execution_count": 89,
          "metadata": {},
          "output_type": "execute_result"
        }
      ],
      "source": [
        "new_colors"
      ]
    },
    {
      "cell_type": "code",
      "execution_count": null,
      "metadata": {
        "id": "GVQ2-C7h-RGB",
        "outputId": "2be6c3ae-eb9c-4ede-80a9-0eeaab3d98d4"
      },
      "outputs": [
        {
          "data": {
            "text/plain": [
              "['red.png', 'blue.png', 'green.png', 'yellow.png', 'white.png']"
            ]
          },
          "execution_count": 90,
          "metadata": {},
          "output_type": "execute_result"
        }
      ],
      "source": [
        "# リスト内包表記の書き方(こちらが推奨)\n",
        "[color + '.png' for color in colors]"
      ]
    },
    {
      "cell_type": "markdown",
      "metadata": {
        "id": "sXeeovWW-RGB"
      },
      "source": [
        "### while loop"
      ]
    },
    {
      "cell_type": "code",
      "execution_count": null,
      "metadata": {
        "id": "r_sqwqJJ-RGB",
        "outputId": "cbe7fe42-c8d5-44ff-d1a4-56a3b9ea6afb"
      },
      "outputs": [
        {
          "name": "stdout",
          "output_type": "stream",
          "text": [
            "0 is less than 0\n",
            "1 is less than 0\n",
            "2 is less than 0\n",
            "3 is less than 0\n",
            "4 is less than 0\n"
          ]
        }
      ],
      "source": [
        "#条件が満たされるまで永遠にループする\n",
        "i = 0  #変数初期化\n",
        "while i < 5:  #while文\n",
        "    print('{} is less than 0'.format(i)) #処理(条件文がTrueになるようにする)\n",
        "    #これがないと無限ループになるので注意\n",
        "    i += 1"
      ]
    },
    {
      "cell_type": "markdown",
      "metadata": {
        "id": "qRs37CKA-RGB"
      },
      "source": [
        "## イテラブル(Iterable) と イテレータ(Iterator)"
      ]
    },
    {
      "cell_type": "markdown",
      "metadata": {
        "id": "Z_RIhNGd-RGB"
      },
      "source": [
        "iterable: String, List, Tuple, Set, Dict  \n",
        "not iterable: Integer, Float, Boolean"
      ]
    },
    {
      "cell_type": "code",
      "execution_count": null,
      "metadata": {
        "id": "pyc3LrSk-RGC"
      },
      "outputs": [],
      "source": [
        "# Iterableとは，iter()関数でIteratorを返すオブジェクト\n",
        "# Iteratorとは，next()関数でiterationできるオブジェクト\n",
        "\n",
        "# ・・・・！？"
      ]
    },
    {
      "cell_type": "code",
      "execution_count": null,
      "metadata": {
        "id": "Vt8N8FLr-RGC",
        "outputId": "2004f01e-85bb-4e52-8f79-ab34ec2d0b0a"
      },
      "outputs": [
        {
          "data": {
            "text/plain": [
              "<list_iterator at 0x7fc6a42b7b90>"
            ]
          },
          "execution_count": 93,
          "metadata": {},
          "output_type": "execute_result"
        }
      ],
      "source": [
        "list_a = [1, 2, 3, 4, 5]\n",
        "\n",
        "# iter()関数でイテレータを返せばlist_a(リスト)はiterable\n",
        "iter(list_a)\n",
        "# iteratorを返したのでリストはiterable"
      ]
    },
    {
      "cell_type": "code",
      "execution_count": null,
      "metadata": {
        "id": "pCY59ZH0-RGC"
      },
      "outputs": [],
      "source": [
        "list_a_iterator = iter(list_a)"
      ]
    },
    {
      "cell_type": "code",
      "execution_count": null,
      "metadata": {
        "id": "Sk_hy9x6-RGC",
        "outputId": "cdde04e1-fe53-4e02-e0bb-58cc307cb4ec"
      },
      "outputs": [
        {
          "data": {
            "text/plain": [
              "1"
            ]
          },
          "execution_count": 95,
          "metadata": {},
          "output_type": "execute_result"
        }
      ],
      "source": [
        "# iter(list_a)は本当にiteratorか？next()関数で確認すると\n",
        "next(list_a_iterator)\n",
        "# 実際に次の値を返す"
      ]
    },
    {
      "cell_type": "code",
      "execution_count": null,
      "metadata": {
        "id": "oC88jMF0-RGC",
        "outputId": "2436f8cf-19b6-4878-edbc-a0e8da87c468"
      },
      "outputs": [
        {
          "ename": "TypeError",
          "evalue": "'list' object is not an iterator",
          "output_type": "error",
          "traceback": [
            "\u001b[0;31m---------------------------------------------------------------------------\u001b[0m",
            "\u001b[0;31mTypeError\u001b[0m                                 Traceback (most recent call last)",
            "\u001b[0;32m<ipython-input-96-d629c6b92c05>\u001b[0m in \u001b[0;36m<module>\u001b[0;34m\u001b[0m\n\u001b[1;32m      1\u001b[0m \u001b[0;31m# リスト自体にはnext()関数はないので，iteratorではない\u001b[0m\u001b[0;34m\u001b[0m\u001b[0;34m\u001b[0m\u001b[0;34m\u001b[0m\u001b[0m\n\u001b[0;32m----> 2\u001b[0;31m \u001b[0mnext\u001b[0m\u001b[0;34m(\u001b[0m\u001b[0mlist_a\u001b[0m\u001b[0;34m)\u001b[0m\u001b[0;34m\u001b[0m\u001b[0;34m\u001b[0m\u001b[0m\n\u001b[0m",
            "\u001b[0;31mTypeError\u001b[0m: 'list' object is not an iterator"
          ]
        }
      ],
      "source": [
        "# リスト自体にはnext()関数はないので，iteratorではない\n",
        "next(list_a)"
      ]
    },
    {
      "cell_type": "code",
      "execution_count": null,
      "metadata": {
        "id": "2dZjqk2i-RGC"
      },
      "outputs": [],
      "source": [
        "range_a = range(10)\n",
        "# range関数の戻り値もiterable\n",
        "range_a_iterator = iter(range_a)"
      ]
    },
    {
      "cell_type": "code",
      "execution_count": null,
      "metadata": {
        "id": "1wyZPujZ-RGC",
        "outputId": "8eb0d678-3055-435f-b28d-b5e77bbc21fb"
      },
      "outputs": [
        {
          "data": {
            "text/plain": [
              "0"
            ]
          },
          "execution_count": 98,
          "metadata": {},
          "output_type": "execute_result"
        }
      ],
      "source": [
        "next(range_a_iterator)"
      ]
    },
    {
      "cell_type": "code",
      "execution_count": null,
      "metadata": {
        "id": "Lr38hHUt-RGC"
      },
      "outputs": [],
      "source": [
        "# for loopで回せるもの→Iterableオブジェクト\n",
        "# *ちなみにiteratorはiterableである"
      ]
    },
    {
      "cell_type": "code",
      "execution_count": null,
      "metadata": {
        "id": "El_pHY_6-RGC",
        "outputId": "c7d53a3d-ebd8-41db-dc2f-e7cde8a3aa91"
      },
      "outputs": [
        {
          "ename": "TypeError",
          "evalue": "'bool' object is not iterable",
          "output_type": "error",
          "traceback": [
            "\u001b[0;31m---------------------------------------------------------------------------\u001b[0m",
            "\u001b[0;31mTypeError\u001b[0m                                 Traceback (most recent call last)",
            "\u001b[0;32m<ipython-input-100-444e84f569b7>\u001b[0m in \u001b[0;36m<module>\u001b[0;34m\u001b[0m\n\u001b[1;32m      1\u001b[0m \u001b[0;31m# Booleanはiterableではない\u001b[0m\u001b[0;34m\u001b[0m\u001b[0;34m\u001b[0m\u001b[0;34m\u001b[0m\u001b[0m\n\u001b[0;32m----> 2\u001b[0;31m \u001b[0;32mfor\u001b[0m \u001b[0mi\u001b[0m \u001b[0;32min\u001b[0m \u001b[0;32mTrue\u001b[0m\u001b[0;34m:\u001b[0m\u001b[0;34m\u001b[0m\u001b[0;34m\u001b[0m\u001b[0m\n\u001b[0m\u001b[1;32m      3\u001b[0m     \u001b[0mprint\u001b[0m\u001b[0;34m(\u001b[0m\u001b[0mi\u001b[0m\u001b[0;34m)\u001b[0m\u001b[0;34m\u001b[0m\u001b[0;34m\u001b[0m\u001b[0m\n",
            "\u001b[0;31mTypeError\u001b[0m: 'bool' object is not iterable"
          ]
        }
      ],
      "source": [
        "# Booleanはiterableではない\n",
        "for i in True:\n",
        "    print(i)"
      ]
    },
    {
      "cell_type": "code",
      "execution_count": null,
      "metadata": {
        "id": "nCFHGEWg-RGC",
        "outputId": "aefa4d64-e1fd-4232-af7d-695c9a0314f2"
      },
      "outputs": [
        {
          "name": "stdout",
          "output_type": "stream",
          "text": [
            "h\n",
            "e\n",
            "l\n",
            "l\n",
            "o\n"
          ]
        }
      ],
      "source": [
        "# Stringsはiterable\n",
        "for i in 'hello':\n",
        "    print(i)"
      ]
    },
    {
      "cell_type": "markdown",
      "metadata": {
        "id": "w3W7PoDo-RGD"
      },
      "source": [
        "## 関数 (Function)"
      ]
    },
    {
      "cell_type": "code",
      "execution_count": null,
      "metadata": {
        "id": "CqFLa3Rj-RGD"
      },
      "outputs": [],
      "source": [
        "def function_name(param1, param2):\n",
        "    \"\"\"\n",
        "    This function prints something\n",
        "    \n",
        "    Parameters\n",
        "    -------------------\n",
        "        param1: explain param1\n",
        "        param2: explain param2\n",
        "    \"\"\"\n",
        "    print('Do something for {} and {}'.format(param1, param2))\n",
        "    \n",
        "    return param1 + ' and ' + param2"
      ]
    },
    {
      "cell_type": "code",
      "execution_count": null,
      "metadata": {
        "id": "LCBsyfj_-RGD",
        "outputId": "5ff88e68-2d6e-460d-c4bf-a4cb48014db9"
      },
      "outputs": [
        {
          "name": "stdout",
          "output_type": "stream",
          "text": [
            "Do something for argument1 and argument2\n"
          ]
        },
        {
          "data": {
            "text/plain": [
              "'argument1 and argument2'"
            ]
          },
          "execution_count": 103,
          "metadata": {},
          "output_type": "execute_result"
        }
      ],
      "source": [
        "arg1 = 'argument1'\n",
        "arg2 = 'argument2'\n",
        "#関数をcallするときは'関数名(引数)'\n",
        "#戻り値がある場合は変数に結果を格納\n",
        "func_return = function_name(arg1, arg2)\n",
        "func_return"
      ]
    },
    {
      "cell_type": "code",
      "execution_count": null,
      "metadata": {
        "id": "68gMuaBP-RGD",
        "outputId": "12009643-f4c2-4235-dfac-ea58726623d5"
      },
      "outputs": [
        {
          "name": "stdout",
          "output_type": "stream",
          "text": [
            "Do something for argument1 and argument2\n",
            "something\n"
          ]
        }
      ],
      "source": [
        "# 戻り値を変数に入れ忘れた場合は\n",
        "function_name(arg1, arg2)\n",
        "print('something')"
      ]
    },
    {
      "cell_type": "code",
      "execution_count": null,
      "metadata": {
        "id": "GQWzXRGS-RGD",
        "outputId": "64709f84-c474-4c89-d57d-4d3c7533e79b"
      },
      "outputs": [
        {
          "data": {
            "text/plain": [
              "'argument1 and argument2'"
            ]
          },
          "execution_count": 105,
          "metadata": {},
          "output_type": "execute_result"
        }
      ],
      "source": [
        "# '_'に最後に実行した戻り値が入っているので便利\n",
        "_"
      ]
    },
    {
      "cell_type": "code",
      "execution_count": null,
      "metadata": {
        "id": "31FL6Dw7-RGD",
        "outputId": "dd7fcbcb-8739-4b48-968a-aeb1d4bc1906"
      },
      "outputs": [
        {
          "data": {
            "text/plain": [
              "'argument1 and argument2'"
            ]
          },
          "execution_count": 106,
          "metadata": {},
          "output_type": "execute_result"
        }
      ],
      "source": [
        "# 後から代入すればOK\n",
        "value = _\n",
        "value"
      ]
    },
    {
      "cell_type": "code",
      "execution_count": null,
      "metadata": {
        "id": "5J7OjST7-RGD",
        "outputId": "e62fd8fd-24c6-49ac-94cb-05bd481fdfbf"
      },
      "outputs": [
        {
          "name": "stdout",
          "output_type": "stream",
          "text": [
            "print\n"
          ]
        },
        {
          "data": {
            "text/plain": [
              "True"
            ]
          },
          "execution_count": 107,
          "metadata": {},
          "output_type": "execute_result"
        }
      ],
      "source": [
        "#　ちなみにprint()関数の戻り値はNone\n",
        "return_value = print('print')\n",
        "return_value is None"
      ]
    },
    {
      "cell_type": "code",
      "execution_count": null,
      "metadata": {
        "id": "hckwhGwd-RGD",
        "outputId": "7d0fc660-ec7f-46ad-bb91-4a767b5839f1"
      },
      "outputs": [
        {
          "name": "stdout",
          "output_type": "stream",
          "text": [
            "Do something for argument1 and argument2\n"
          ]
        }
      ],
      "source": [
        "#引数が多い場合はfunction(param=arg)の形をとるのが◎\n",
        "func_return = function_name(param1=arg1, param2=arg2)"
      ]
    },
    {
      "cell_type": "markdown",
      "metadata": {
        "id": "6okARwpm-RGD"
      },
      "source": [
        "## mutable vs immutable"
      ]
    },
    {
      "cell_type": "markdown",
      "metadata": {
        "id": "mo5CtJua-RGE"
      },
      "source": [
        "mutable : List, Set, Dictinary  \n",
        "immutable: Integer, Float, Boolean, String, Tuple"
      ]
    },
    {
      "cell_type": "markdown",
      "metadata": {
        "id": "pCplSemk-RGE"
      },
      "source": [
        "### mutable"
      ]
    },
    {
      "cell_type": "code",
      "execution_count": null,
      "metadata": {
        "id": "48-IT-j6-RGE",
        "outputId": "0e72d588-ec23-4cb1-8779-b2249e7b93dc"
      },
      "outputs": [
        {
          "name": "stdout",
          "output_type": "stream",
          "text": [
            "list_b : [1, 2, 3, 4]\n"
          ]
        }
      ],
      "source": [
        "def append_elem(list_param, elem=0):\n",
        "    \n",
        "    list_param.append(elem)\n",
        "    \n",
        "    return list_param\n",
        "\n",
        "list_a = [1, 2, 3]\n",
        "list_b = append_elem(list_a, elem=4)\n",
        "# list_bは当然 list_aにelemを追加したリスト\n",
        "print('list_b : {}'.format(list_b))\n",
        "# じゃぁlist_aは？\n",
        "# print('list_a : {}'.format(list_a))"
      ]
    },
    {
      "cell_type": "markdown",
      "metadata": {
        "id": "cztWjqgJ-RGE"
      },
      "source": [
        "### immutable"
      ]
    },
    {
      "cell_type": "code",
      "execution_count": null,
      "metadata": {
        "id": "im7hW9HE-RGE",
        "outputId": "b9ac5ad4-d72b-463a-ce5f-9dda5a41c4be"
      },
      "outputs": [
        {
          "name": "stdout",
          "output_type": "stream",
          "text": [
            "7\n",
            "4\n"
          ]
        }
      ],
      "source": [
        "def add_num(param, num=0):\n",
        "    \n",
        "    param += num\n",
        "    \n",
        "    return param\n",
        "\n",
        "num_a = 4\n",
        "num_b = add_num(num_a, num=3)\n",
        "# 当然num_bは\n",
        "print(num_b)\n",
        "# じゃぁ元のnum_aは？\n",
        "print(num_a)"
      ]
    },
    {
      "cell_type": "code",
      "execution_count": null,
      "metadata": {
        "id": "lcS1pe5M-RGE",
        "outputId": "d3e23bf5-dde5-41cd-8dea-fedad216e97a"
      },
      "outputs": [
        {
          "name": "stdout",
          "output_type": "stream",
          "text": [
            "original id: 140491134406896\n",
            "updated id: 140491134406896\n",
            "['hello', 'world']\n"
          ]
        }
      ],
      "source": [
        "# mutableオブジェクト\n",
        "a = ['hello']\n",
        "print('original id: {}'.format(id(a)))\n",
        "# 変更しても\n",
        "a += ['world']\n",
        "# idは変わっていない　もとのメモリは上書きされている\n",
        "print('updated id: {}'.format(id(a)))\n",
        "print(a)"
      ]
    },
    {
      "cell_type": "code",
      "execution_count": null,
      "metadata": {
        "id": "mOHoMy1Y-RGE",
        "outputId": "398c87f6-3227-4c5c-a4cd-f234f6ca5698"
      },
      "outputs": [
        {
          "name": "stdout",
          "output_type": "stream",
          "text": [
            "original id: 140491134674864\n",
            "updated id: 140491134394096\n",
            "hello world\n"
          ]
        }
      ],
      "source": [
        "# immutableオブジェクト\n",
        "a = 'hello'\n",
        "print('original id: {}'.format(id(a)))\n",
        "# 変更すると\n",
        "a += ' world'\n",
        "# idが変わっている・・・！　もとのメモリは上書きされていない\n",
        "print('updated id: {}'.format(id(a)))\n",
        "print(a)"
      ]
    },
    {
      "cell_type": "code",
      "execution_count": null,
      "metadata": {
        "id": "YSvZCjE9-RGE",
        "outputId": "875d3b55-70fb-4389-dbf8-67914ad77ef1"
      },
      "outputs": [
        {
          "name": "stdout",
          "output_type": "stream",
          "text": [
            "140491235266736\n",
            "140491235266736\n"
          ]
        }
      ],
      "source": [
        "# Pythonは基本参照渡し\n",
        "def print_id(n):\n",
        "    print(id(n))\n",
        "    \n",
        "a = 'test'\n",
        "# 表示されるIDは同じ．つまり参照が渡されている\n",
        "print(id(a))\n",
        "print_id(a)\n",
        "# しかし，immutableでは元のメモリを更新できないので，値渡しのような挙動をとる"
      ]
    },
    {
      "cell_type": "markdown",
      "metadata": {
        "id": "wY3mSJHN-RGF"
      },
      "source": [
        "### lambda関数"
      ]
    },
    {
      "cell_type": "code",
      "execution_count": null,
      "metadata": {
        "id": "wQKBe5ri-RGF"
      },
      "outputs": [],
      "source": [
        "#名前をつけるほどでもない一行で終わる関数に使う"
      ]
    },
    {
      "cell_type": "code",
      "execution_count": null,
      "metadata": {
        "id": "ZCOakZsS-RGF"
      },
      "outputs": [],
      "source": [
        "#例えばファイル名(拡張子除く)をPathから取ってくる関数\n",
        "def get_filename(path):\n",
        "    return path.split('/')[-1].split('.')[0]"
      ]
    },
    {
      "cell_type": "code",
      "execution_count": null,
      "metadata": {
        "id": "kJzbUC-A-RGF",
        "outputId": "2ac69e71-3059-458d-da81-ef0c6b987e56"
      },
      "outputs": [
        {
          "data": {
            "text/plain": [
              "'image1'"
            ]
          },
          "execution_count": 116,
          "metadata": {},
          "output_type": "execute_result"
        }
      ],
      "source": [
        "get_filename('/home/user/Desktop/image1.jpg')"
      ]
    },
    {
      "cell_type": "code",
      "execution_count": null,
      "metadata": {
        "id": "Tx2jKnyI-RGF",
        "outputId": "e191f0c9-65c9-492c-e25f-8c5a57507846"
      },
      "outputs": [
        {
          "data": {
            "text/plain": [
              "<function __main__.<lambda>(path)>"
            ]
          },
          "execution_count": 117,
          "metadata": {},
          "output_type": "execute_result"
        }
      ],
      "source": [
        "#lambda関数の書き方\n",
        "lambda path: path.split('/')[-1].split('.')[0]"
      ]
    },
    {
      "cell_type": "code",
      "execution_count": null,
      "metadata": {
        "id": "6WYdzner-RGF",
        "outputId": "2627ef1b-a86b-41ae-9e6a-b335f649bd2c"
      },
      "outputs": [
        {
          "data": {
            "text/plain": [
              "'image1'"
            ]
          },
          "execution_count": 118,
          "metadata": {},
          "output_type": "execute_result"
        }
      ],
      "source": [
        "#lambda関数を変数に代入\n",
        "x = lambda path: path.split('/')[-1].split('.')[0]\n",
        "x('/home/user/Desktop/image1.jpg')"
      ]
    },
    {
      "cell_type": "markdown",
      "metadata": {
        "id": "Y7eu_Q6v-RGF"
      },
      "source": [
        "### \\*argsと**kwargs"
      ]
    },
    {
      "cell_type": "markdown",
      "metadata": {
        "id": "U5clUBbW-RGF"
      },
      "source": [
        "#### *args"
      ]
    },
    {
      "cell_type": "code",
      "execution_count": null,
      "metadata": {
        "id": "ATC5jO3q-RGF",
        "outputId": "b8f2a4c5-16df-4b88-8433-a35aea080b00"
      },
      "outputs": [
        {
          "name": "stdout",
          "output_type": "stream",
          "text": [
            "args' data type is <class 'tuple'>\n"
          ]
        },
        {
          "data": {
            "text/plain": [
              "['image1.png', 'image3.png']"
            ]
          },
          "execution_count": 119,
          "metadata": {},
          "output_type": "execute_result"
        }
      ],
      "source": [
        "#　不特定多数の引数を受け取れる*args\n",
        "def return_only_png(*args):\n",
        "    \n",
        "    png_list = []\n",
        "\n",
        "    for filename in args:\n",
        "        if filename[-3:] == 'png':\n",
        "            png_list.append(filename)\n",
        "    \n",
        "    # argsの中身はtuple\n",
        "    print(\"args' data type is {}\".format(type(args)))\n",
        "    \n",
        "    return png_list\n",
        "\n",
        "#　実行すると，.pngの要素だけがリストで帰ってくる\n",
        "return_only_png('image1.png', 'image2.jpg', 'image3.png', 'image4.jpeg')"
      ]
    },
    {
      "cell_type": "markdown",
      "metadata": {
        "id": "tqunVra1-RGF"
      },
      "source": [
        "#### **kwargs (keyword arguments)"
      ]
    },
    {
      "cell_type": "code",
      "execution_count": null,
      "metadata": {
        "id": "VGVCqBKK-RGG"
      },
      "outputs": [],
      "source": [
        "# **kwargsは*argsのdictionary版\n",
        "# 引数が多くなる場合はこれを使うと綺麗になる\n",
        "def print_dict(**kwargs):\n",
        "    \n",
        "    param1 = str(kwargs.get('param1'))\n",
        "    param2 = str(kwargs.get('param2', 'default_value'))\n",
        "    param3 = str(kwargs.get('param3'))\n",
        "    \n",
        "    print('param1 is {}'.format(param1))\n",
        "    print('param2 is {}'.format(param2))\n",
        "    print('param3 is {}'.format(param3))"
      ]
    },
    {
      "cell_type": "markdown",
      "metadata": {
        "id": "l-4no8S7-RGG"
      },
      "source": [
        "#### * と **の正体 (Unpacking operator)"
      ]
    },
    {
      "cell_type": "code",
      "execution_count": null,
      "metadata": {
        "id": "eQ-1-Rw0-RGG",
        "outputId": "b654c272-3ada-4e79-a09f-82e08cf1aa76"
      },
      "outputs": [
        {
          "name": "stdout",
          "output_type": "stream",
          "text": [
            "[1, 2, 3, 4]\n",
            "1 2 3 4\n"
          ]
        }
      ],
      "source": [
        "a = [1, 2, 3, 4]\n",
        "print(a)\n",
        "# *をつけるとaを'unpack'した状態でprint関数に渡す\n",
        "print(*a)"
      ]
    },
    {
      "cell_type": "code",
      "execution_count": null,
      "metadata": {
        "id": "7kfdBgBi-RGG",
        "outputId": "13ebb7c2-7ede-4603-8c43-030057d6bc1b"
      },
      "outputs": [
        {
          "name": "stdout",
          "output_type": "stream",
          "text": [
            "[1, 2, 3, 4, 5, 6, 7, 8]\n",
            "{'one': 1, 'two': 2, 'three': 3, 'four': 4, 'five': 5}\n"
          ]
        }
      ],
      "source": [
        "# 長さが違うリストもunpackして１つの変数入れれば，１つのリストとして扱える\n",
        "list_a = [1, 2, 3]\n",
        "list_b = [4, 5, 6, 7, 8]\n",
        "list_a_b = [*list_a, *list_b]\n",
        "print(list_a_b)\n",
        "\n",
        "# **も同様にdictionaryのunpackができる．\n",
        "dict_a = {'one': 1, 'two': 2}\n",
        "dict_b = {'three': 3, 'four': 4, 'five':5}\n",
        "dict_a_b = {**dict_a, **dict_b}\n",
        "print(dict_a_b)"
      ]
    },
    {
      "cell_type": "code",
      "execution_count": null,
      "metadata": {
        "id": "kPRYtivg-RGG",
        "outputId": "dd50c45f-01bb-4e2c-8c40-e91977dc36dd"
      },
      "outputs": [
        {
          "data": {
            "text/plain": [
              "'image_1.png'"
            ]
          },
          "execution_count": 123,
          "metadata": {},
          "output_type": "execute_result"
        }
      ],
      "source": [
        "#　*はラッパー関数で使用することがある\n",
        "#　例えばこんな関数を\n",
        "def add_extention(filename, idx=0, extension='.png'):\n",
        "\n",
        "    return '{}_{}{}'.format(filename, idx, extension)\n",
        "add_extention('image', idx=1, extension='.png')"
      ]
    },
    {
      "cell_type": "code",
      "execution_count": null,
      "metadata": {
        "id": "xI03xXd1-RGG",
        "outputId": "bc982ca2-1026-490c-b14f-868eb2640205"
      },
      "outputs": [
        {
          "data": {
            "text/plain": [
              "['image_0.png', 'image_test_1.jpg', 'sample_1.jpeg']"
            ]
          },
          "execution_count": 124,
          "metadata": {},
          "output_type": "execute_result"
        }
      ],
      "source": [
        "# ラップする\n",
        "def wrap_add_extention(args):\n",
        "    return add_extention(*args)\n",
        "\n",
        "#すると，引数は１つ(args)なのでこんな感じで使う\n",
        "arg_tuple = ('image', 1, '.png')\n",
        "wrap_add_extention(arg_tuple)\n",
        "\n",
        "#これの何が嬉しいかというと\n",
        "#tupleのリストを\n",
        "arg_list = [('image', 0, '.png'), ('image_test', 1, '.jpg'), ('sample', 1, '.jpeg')]\n",
        "#簡単に処理できるようになる\n",
        "[wrap_add_extention(arg) for arg in arg_list]"
      ]
    }
  ],
  "metadata": {
    "kernelspec": {
      "display_name": "Python 3",
      "language": "python",
      "name": "python3"
    },
    "language_info": {
      "codemirror_mode": {
        "name": "ipython",
        "version": 3
      },
      "file_extension": ".py",
      "mimetype": "text/x-python",
      "name": "python",
      "nbconvert_exporter": "python",
      "pygments_lexer": "ipython3",
      "version": "3.7.6"
    },
    "colab": {
      "provenance": [],
      "include_colab_link": true
    }
  },
  "nbformat": 4,
  "nbformat_minor": 0
}